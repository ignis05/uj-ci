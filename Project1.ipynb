{
  "cells": [
    {
      "cell_type": "markdown",
      "metadata": {
        "id": "z7XGfQkqnoO1"
      },
      "source": [
        "**Lista pytań:**\n",
        "1. Czy sieć som ma osiągnąć to samo co FFNN czy inny problem?\n",
        "2. Ile ma być epok w trenowaniu seci? Co zrobić jeśli czas trenowania seci wyjdzie w godzinach?"
      ]
    },
    {
      "cell_type": "code",
      "execution_count": 36,
      "metadata": {
        "id": "4sAVF-8O0_L0"
      },
      "outputs": [],
      "source": [
        "# Import required libraries \n",
        "import keras #library for neural network\n",
        "from keras.utils import np_utils\n",
        "from keras.models import Sequential \n",
        "from keras.layers import Dense,Activation,Dropout\n",
        "import pandas as pd #loading data in table form  \n",
        "import seaborn as sns #visualisation \n",
        "import matplotlib.pyplot as plt #visualisation\n",
        "import numpy as np # linear algebra\n",
        "import pandas as pd # data processing, CSV file I/O (e.g. pd.read_csv)\n",
        "from sklearn.preprocessing import normalize #machine learning algorithm library\n",
        "from sklearn.model_selection import train_test_split\n",
        "from sklearn.preprocessing import normalize"
      ]
    },
    {
      "cell_type": "code",
      "execution_count": 37,
      "metadata": {
        "id": "utSHJRpGEjbz"
      },
      "outputs": [],
      "source": [
        "# Library settings\n",
        "pd.set_option('display.max_columns', 60)"
      ]
    },
    {
      "cell_type": "markdown",
      "metadata": {
        "id": "0oC-yfDR2zOI"
      },
      "source": [
        "# **A. Opis zbiorów danych.**"
      ]
    },
    {
      "cell_type": "markdown",
      "metadata": {
        "id": "UoG6XPNU4h1E"
      },
      "source": [
        "**Covertype Data Set**\n",
        "\n",
        "Typ atrybutów: Kategoryczny, Integer. <br>\n",
        "Liczba atrybutów: 54 <br>\n",
        "Zgubione wartości: 0 <br>\n",
        "Rodzaj danych: Dyskretne <br>\n",
        "\n",
        "Zbiór danych służy do przewidywania typu pokrycia leśnego na podstawie następujących atrybutów:\n",
        "*   Wysokość\n",
        "*   Wygląd/Aspekt\n",
        "*   Nachylenie\n",
        "*   Pozioma odległość od wody\n",
        "*   Pionowa odległość od wody\n",
        "*   Pozioma odległość od jezdni\n",
        "*   Zacienienie o 9:00\n",
        "*   Zacienienie o 12:00\n",
        "*   Zacienienie o 15:00\n",
        "*   Pozioma odległość do punktów zapłonu\n",
        "*   Dziekie tereny (4 binarne kolumny)\n",
        "*   Typy ziemii (40 binarnych kolumn)\n",
        "*   7 typów pokrycia leśnego\n",
        "\n",
        "Dane są w postaci surowej, nie były skalowane.\n",
        "Wszystkie dane zostały uzyskane od instytucji znajdujących się w USA i dotyczą czterech obszarów dzikiej przyrody znajdujących się w Roosevelt National Forest w północnym Kolorado. Obszary te zostały wybrane ze względu na to, że nie znajdziemy tam dużej ingerencji człowieka, zatem wygląd tych terenów i typy pokrycia leśnego są wynikiem przemian naturalnych.\n",
        "\n",
        "Najlepsze i najbardziej typowe dla całego zbiory danych są obszary Rawah oraz Comanche Peak, ponieważ posiadają wiele gatunków drzew i lepszy zakres wartości zmiennych predykcyjnych takich jak np. wyokość. Skłąd gatunkowy pozostałych dwóch obszarów jest nieco bardziej ubogi.\n",
        "\n",
        "<br>\n",
        "<br>\n",
        "\n",
        "**Credit Approval Data Set**\n",
        "\n",
        "Typ atrybutów: Kategoryczny, Continuous, Integer. <br>\n",
        "Liczba atrybutów: 15 <br>\n",
        "Liczba instancji: 690 <br>\n",
        "Zgubione wartości: występują <br>\n",
        "Rodzaj danych: Mieszane <br>\n",
        "\n",
        "Zbiór danych służy do rozpatrywania wniosków o karty kredytowe na podstawie następujących atrybutów:\n",
        "\n",
        "* A1: b, a. \n",
        "* A2: continuous. \n",
        "* A3: continuous. \n",
        "* A4: u, y, l, t. \n",
        "* A5: g, p, gg. \n",
        "* A6: c, d, cc, i, j, k, m, r, q, w, x, e, aa, ff. \n",
        "* A7: v, h, bb, j, n, z, dd, ff, o. \n",
        "* A8: continuous. \n",
        "* A9: t, f. \n",
        "* A10: t, f. \n",
        "* A11: continuous. \n",
        "* A12: t, f. \n",
        "* A13: g, p, s. \n",
        "* A14: continuous. \n",
        "* A15: continuous. \n",
        "* A16: +,- (class attribute)\n",
        "\n",
        "Nazwy i wartości wszystkich atrybutów zostały zmienione na nic nieznaczące symbole w celu ochrony poufności danych. W zbiorze danych znajdują się atrybuty kategoryczne, ciągłe oraz typu całkowitego o dużych i małych wartościach. Zbiór danych powstał w calach klasyfikacyjnych i posiada 15 atrybutów z 690 instancjami w którym występują brakujące dane.\n"
      ]
    },
    {
      "cell_type": "markdown",
      "metadata": {
        "id": "O9a3lk4f_xrw"
      },
      "source": [
        "# **Wczytywanie zbiorów danych**"
      ]
    },
    {
      "cell_type": "code",
      "execution_count": 38,
      "metadata": {
        "colab": {
          "base_uri": "https://localhost:8080/",
          "height": 302
        },
        "id": "5zKml2RO_jpM",
        "outputId": "94327494-67f4-433c-92c3-5bc3e221b2b1"
      },
      "outputs": [
        {
          "name": "stdout",
          "output_type": "stream",
          "text": [
            "Dataset 1 - forest covertype:\n",
            "\n"
          ]
        },
        {
          "data": {
            "text/html": [
              "<div>\n",
              "<style scoped>\n",
              "    .dataframe tbody tr th:only-of-type {\n",
              "        vertical-align: middle;\n",
              "    }\n",
              "\n",
              "    .dataframe tbody tr th {\n",
              "        vertical-align: top;\n",
              "    }\n",
              "\n",
              "    .dataframe thead th {\n",
              "        text-align: right;\n",
              "    }\n",
              "</style>\n",
              "<table border=\"1\" class=\"dataframe\">\n",
              "  <thead>\n",
              "    <tr style=\"text-align: right;\">\n",
              "      <th></th>\n",
              "      <th>Elevation</th>\n",
              "      <th>Aspect</th>\n",
              "      <th>Slope</th>\n",
              "      <th>Dist_to_water_hor</th>\n",
              "      <th>Dist_to_water_ver</th>\n",
              "      <th>Hillshade_9am</th>\n",
              "      <th>Hillshade_Noon</th>\n",
              "      <th>Hillshade_3pm</th>\n",
              "      <th>Dist_to_fire</th>\n",
              "      <th>Wilderness_0</th>\n",
              "      <th>Wilderness_1</th>\n",
              "      <th>Wilderness_2</th>\n",
              "      <th>Wilderness_3</th>\n",
              "      <th>Soil_0</th>\n",
              "      <th>Soil_1</th>\n",
              "      <th>Soil_2</th>\n",
              "      <th>Soil_3</th>\n",
              "      <th>Soil_4</th>\n",
              "      <th>Soil_5</th>\n",
              "      <th>Soil_6</th>\n",
              "      <th>Soil_7</th>\n",
              "      <th>Soil_8</th>\n",
              "      <th>Soil_9</th>\n",
              "      <th>Soil_10</th>\n",
              "      <th>Soil_11</th>\n",
              "      <th>Soil_12</th>\n",
              "      <th>Soil_13</th>\n",
              "      <th>Soil_14</th>\n",
              "      <th>Soil_15</th>\n",
              "      <th>Soil_16</th>\n",
              "      <th>Soil_17</th>\n",
              "      <th>Soil_18</th>\n",
              "      <th>Soil_19</th>\n",
              "      <th>Soil_20</th>\n",
              "      <th>Soil_21</th>\n",
              "      <th>Soil_22</th>\n",
              "      <th>Soil_23</th>\n",
              "      <th>Soil_24</th>\n",
              "      <th>Soil_25</th>\n",
              "      <th>Soil_26</th>\n",
              "      <th>Soil_27</th>\n",
              "      <th>Soil_28</th>\n",
              "      <th>Soil_29</th>\n",
              "      <th>Soil_30</th>\n",
              "      <th>Soil_31</th>\n",
              "      <th>Soil_32</th>\n",
              "      <th>Soil_33</th>\n",
              "      <th>Soil_34</th>\n",
              "      <th>Soil_35</th>\n",
              "      <th>Soil_36</th>\n",
              "      <th>Soil_37</th>\n",
              "      <th>Soil_38</th>\n",
              "      <th>Soil_39</th>\n",
              "      <th>Cover_Type</th>\n",
              "    </tr>\n",
              "  </thead>\n",
              "  <tbody>\n",
              "    <tr>\n",
              "      <th>2596</th>\n",
              "      <td>51</td>\n",
              "      <td>3</td>\n",
              "      <td>258</td>\n",
              "      <td>0</td>\n",
              "      <td>510</td>\n",
              "      <td>221</td>\n",
              "      <td>232</td>\n",
              "      <td>148</td>\n",
              "      <td>6279</td>\n",
              "      <td>1</td>\n",
              "      <td>0</td>\n",
              "      <td>0</td>\n",
              "      <td>0</td>\n",
              "      <td>0</td>\n",
              "      <td>0</td>\n",
              "      <td>0</td>\n",
              "      <td>0</td>\n",
              "      <td>0</td>\n",
              "      <td>0</td>\n",
              "      <td>0</td>\n",
              "      <td>0</td>\n",
              "      <td>0</td>\n",
              "      <td>0</td>\n",
              "      <td>0</td>\n",
              "      <td>0</td>\n",
              "      <td>0</td>\n",
              "      <td>0</td>\n",
              "      <td>0</td>\n",
              "      <td>0</td>\n",
              "      <td>0</td>\n",
              "      <td>0</td>\n",
              "      <td>0</td>\n",
              "      <td>0</td>\n",
              "      <td>0</td>\n",
              "      <td>0</td>\n",
              "      <td>0</td>\n",
              "      <td>0</td>\n",
              "      <td>0</td>\n",
              "      <td>0</td>\n",
              "      <td>0</td>\n",
              "      <td>0</td>\n",
              "      <td>1</td>\n",
              "      <td>0</td>\n",
              "      <td>0</td>\n",
              "      <td>0</td>\n",
              "      <td>0</td>\n",
              "      <td>0</td>\n",
              "      <td>0</td>\n",
              "      <td>0</td>\n",
              "      <td>0</td>\n",
              "      <td>0</td>\n",
              "      <td>0</td>\n",
              "      <td>0</td>\n",
              "      <td>5</td>\n",
              "    </tr>\n",
              "    <tr>\n",
              "      <th>2590</th>\n",
              "      <td>56</td>\n",
              "      <td>2</td>\n",
              "      <td>212</td>\n",
              "      <td>-6</td>\n",
              "      <td>390</td>\n",
              "      <td>220</td>\n",
              "      <td>235</td>\n",
              "      <td>151</td>\n",
              "      <td>6225</td>\n",
              "      <td>1</td>\n",
              "      <td>0</td>\n",
              "      <td>0</td>\n",
              "      <td>0</td>\n",
              "      <td>0</td>\n",
              "      <td>0</td>\n",
              "      <td>0</td>\n",
              "      <td>0</td>\n",
              "      <td>0</td>\n",
              "      <td>0</td>\n",
              "      <td>0</td>\n",
              "      <td>0</td>\n",
              "      <td>0</td>\n",
              "      <td>0</td>\n",
              "      <td>0</td>\n",
              "      <td>0</td>\n",
              "      <td>0</td>\n",
              "      <td>0</td>\n",
              "      <td>0</td>\n",
              "      <td>0</td>\n",
              "      <td>0</td>\n",
              "      <td>0</td>\n",
              "      <td>0</td>\n",
              "      <td>0</td>\n",
              "      <td>0</td>\n",
              "      <td>0</td>\n",
              "      <td>0</td>\n",
              "      <td>0</td>\n",
              "      <td>0</td>\n",
              "      <td>0</td>\n",
              "      <td>0</td>\n",
              "      <td>0</td>\n",
              "      <td>1</td>\n",
              "      <td>0</td>\n",
              "      <td>0</td>\n",
              "      <td>0</td>\n",
              "      <td>0</td>\n",
              "      <td>0</td>\n",
              "      <td>0</td>\n",
              "      <td>0</td>\n",
              "      <td>0</td>\n",
              "      <td>0</td>\n",
              "      <td>0</td>\n",
              "      <td>0</td>\n",
              "      <td>5</td>\n",
              "    </tr>\n",
              "    <tr>\n",
              "      <th>2804</th>\n",
              "      <td>139</td>\n",
              "      <td>9</td>\n",
              "      <td>268</td>\n",
              "      <td>65</td>\n",
              "      <td>3180</td>\n",
              "      <td>234</td>\n",
              "      <td>238</td>\n",
              "      <td>135</td>\n",
              "      <td>6121</td>\n",
              "      <td>1</td>\n",
              "      <td>0</td>\n",
              "      <td>0</td>\n",
              "      <td>0</td>\n",
              "      <td>0</td>\n",
              "      <td>0</td>\n",
              "      <td>0</td>\n",
              "      <td>0</td>\n",
              "      <td>0</td>\n",
              "      <td>0</td>\n",
              "      <td>0</td>\n",
              "      <td>0</td>\n",
              "      <td>0</td>\n",
              "      <td>0</td>\n",
              "      <td>0</td>\n",
              "      <td>1</td>\n",
              "      <td>0</td>\n",
              "      <td>0</td>\n",
              "      <td>0</td>\n",
              "      <td>0</td>\n",
              "      <td>0</td>\n",
              "      <td>0</td>\n",
              "      <td>0</td>\n",
              "      <td>0</td>\n",
              "      <td>0</td>\n",
              "      <td>0</td>\n",
              "      <td>0</td>\n",
              "      <td>0</td>\n",
              "      <td>0</td>\n",
              "      <td>0</td>\n",
              "      <td>0</td>\n",
              "      <td>0</td>\n",
              "      <td>0</td>\n",
              "      <td>0</td>\n",
              "      <td>0</td>\n",
              "      <td>0</td>\n",
              "      <td>0</td>\n",
              "      <td>0</td>\n",
              "      <td>0</td>\n",
              "      <td>0</td>\n",
              "      <td>0</td>\n",
              "      <td>0</td>\n",
              "      <td>0</td>\n",
              "      <td>0</td>\n",
              "      <td>2</td>\n",
              "    </tr>\n",
              "    <tr>\n",
              "      <th>2785</th>\n",
              "      <td>155</td>\n",
              "      <td>18</td>\n",
              "      <td>242</td>\n",
              "      <td>118</td>\n",
              "      <td>3090</td>\n",
              "      <td>238</td>\n",
              "      <td>238</td>\n",
              "      <td>122</td>\n",
              "      <td>6211</td>\n",
              "      <td>1</td>\n",
              "      <td>0</td>\n",
              "      <td>0</td>\n",
              "      <td>0</td>\n",
              "      <td>0</td>\n",
              "      <td>0</td>\n",
              "      <td>0</td>\n",
              "      <td>0</td>\n",
              "      <td>0</td>\n",
              "      <td>0</td>\n",
              "      <td>0</td>\n",
              "      <td>0</td>\n",
              "      <td>0</td>\n",
              "      <td>0</td>\n",
              "      <td>0</td>\n",
              "      <td>0</td>\n",
              "      <td>0</td>\n",
              "      <td>0</td>\n",
              "      <td>0</td>\n",
              "      <td>0</td>\n",
              "      <td>0</td>\n",
              "      <td>0</td>\n",
              "      <td>0</td>\n",
              "      <td>0</td>\n",
              "      <td>0</td>\n",
              "      <td>0</td>\n",
              "      <td>0</td>\n",
              "      <td>0</td>\n",
              "      <td>0</td>\n",
              "      <td>0</td>\n",
              "      <td>0</td>\n",
              "      <td>0</td>\n",
              "      <td>0</td>\n",
              "      <td>1</td>\n",
              "      <td>0</td>\n",
              "      <td>0</td>\n",
              "      <td>0</td>\n",
              "      <td>0</td>\n",
              "      <td>0</td>\n",
              "      <td>0</td>\n",
              "      <td>0</td>\n",
              "      <td>0</td>\n",
              "      <td>0</td>\n",
              "      <td>0</td>\n",
              "      <td>2</td>\n",
              "    </tr>\n",
              "    <tr>\n",
              "      <th>2595</th>\n",
              "      <td>45</td>\n",
              "      <td>2</td>\n",
              "      <td>153</td>\n",
              "      <td>-1</td>\n",
              "      <td>391</td>\n",
              "      <td>220</td>\n",
              "      <td>234</td>\n",
              "      <td>150</td>\n",
              "      <td>6172</td>\n",
              "      <td>1</td>\n",
              "      <td>0</td>\n",
              "      <td>0</td>\n",
              "      <td>0</td>\n",
              "      <td>0</td>\n",
              "      <td>0</td>\n",
              "      <td>0</td>\n",
              "      <td>0</td>\n",
              "      <td>0</td>\n",
              "      <td>0</td>\n",
              "      <td>0</td>\n",
              "      <td>0</td>\n",
              "      <td>0</td>\n",
              "      <td>0</td>\n",
              "      <td>0</td>\n",
              "      <td>0</td>\n",
              "      <td>0</td>\n",
              "      <td>0</td>\n",
              "      <td>0</td>\n",
              "      <td>0</td>\n",
              "      <td>0</td>\n",
              "      <td>0</td>\n",
              "      <td>0</td>\n",
              "      <td>0</td>\n",
              "      <td>0</td>\n",
              "      <td>0</td>\n",
              "      <td>0</td>\n",
              "      <td>0</td>\n",
              "      <td>0</td>\n",
              "      <td>0</td>\n",
              "      <td>0</td>\n",
              "      <td>0</td>\n",
              "      <td>1</td>\n",
              "      <td>0</td>\n",
              "      <td>0</td>\n",
              "      <td>0</td>\n",
              "      <td>0</td>\n",
              "      <td>0</td>\n",
              "      <td>0</td>\n",
              "      <td>0</td>\n",
              "      <td>0</td>\n",
              "      <td>0</td>\n",
              "      <td>0</td>\n",
              "      <td>0</td>\n",
              "      <td>5</td>\n",
              "    </tr>\n",
              "  </tbody>\n",
              "</table>\n",
              "</div>"
            ],
            "text/plain": [
              "      Elevation  Aspect  Slope  Dist_to_water_hor  Dist_to_water_ver  \\\n",
              "2596         51       3    258                  0                510   \n",
              "2590         56       2    212                 -6                390   \n",
              "2804        139       9    268                 65               3180   \n",
              "2785        155      18    242                118               3090   \n",
              "2595         45       2    153                 -1                391   \n",
              "\n",
              "      Hillshade_9am  Hillshade_Noon  Hillshade_3pm  Dist_to_fire  \\\n",
              "2596            221             232            148          6279   \n",
              "2590            220             235            151          6225   \n",
              "2804            234             238            135          6121   \n",
              "2785            238             238            122          6211   \n",
              "2595            220             234            150          6172   \n",
              "\n",
              "      Wilderness_0  Wilderness_1  Wilderness_2  Wilderness_3  Soil_0  Soil_1  \\\n",
              "2596             1             0             0             0       0       0   \n",
              "2590             1             0             0             0       0       0   \n",
              "2804             1             0             0             0       0       0   \n",
              "2785             1             0             0             0       0       0   \n",
              "2595             1             0             0             0       0       0   \n",
              "\n",
              "      Soil_2  Soil_3  Soil_4  Soil_5  Soil_6  Soil_7  Soil_8  Soil_9  Soil_10  \\\n",
              "2596       0       0       0       0       0       0       0       0        0   \n",
              "2590       0       0       0       0       0       0       0       0        0   \n",
              "2804       0       0       0       0       0       0       0       0        0   \n",
              "2785       0       0       0       0       0       0       0       0        0   \n",
              "2595       0       0       0       0       0       0       0       0        0   \n",
              "\n",
              "      Soil_11  Soil_12  Soil_13  Soil_14  Soil_15  Soil_16  Soil_17  Soil_18  \\\n",
              "2596        0        0        0        0        0        0        0        0   \n",
              "2590        0        0        0        0        0        0        0        0   \n",
              "2804        1        0        0        0        0        0        0        0   \n",
              "2785        0        0        0        0        0        0        0        0   \n",
              "2595        0        0        0        0        0        0        0        0   \n",
              "\n",
              "      Soil_19  Soil_20  Soil_21  Soil_22  Soil_23  Soil_24  Soil_25  Soil_26  \\\n",
              "2596        0        0        0        0        0        0        0        0   \n",
              "2590        0        0        0        0        0        0        0        0   \n",
              "2804        0        0        0        0        0        0        0        0   \n",
              "2785        0        0        0        0        0        0        0        0   \n",
              "2595        0        0        0        0        0        0        0        0   \n",
              "\n",
              "      Soil_27  Soil_28  Soil_29  Soil_30  Soil_31  Soil_32  Soil_33  Soil_34  \\\n",
              "2596        0        1        0        0        0        0        0        0   \n",
              "2590        0        1        0        0        0        0        0        0   \n",
              "2804        0        0        0        0        0        0        0        0   \n",
              "2785        0        0        1        0        0        0        0        0   \n",
              "2595        0        1        0        0        0        0        0        0   \n",
              "\n",
              "      Soil_35  Soil_36  Soil_37  Soil_38  Soil_39  Cover_Type  \n",
              "2596        0        0        0        0        0           5  \n",
              "2590        0        0        0        0        0           5  \n",
              "2804        0        0        0        0        0           2  \n",
              "2785        0        0        0        0        0           2  \n",
              "2595        0        0        0        0        0           5  "
            ]
          },
          "execution_count": 38,
          "metadata": {},
          "output_type": "execute_result"
        }
      ],
      "source": [
        "#  Load dataset 1\n",
        "print(\"Dataset 1 - forest covertype:\\n\")\n",
        "covtype_colnames = ['Elevation', 'Aspect', 'Slope', 'Dist_to_water_hor', 'Dist_to_water_ver', 'Hillshade_9am', 'Hillshade_Noon',\n",
        "                    'Hillshade_3pm', 'Dist_to_fire', ] + [f'Wilderness_{i}' for i in range(4)] + [f'Soil_{i}' for i in range(40)] + ['Cover_Type']\n",
        "covtype_dataset = pd.read_csv(\"https://archive.ics.uci.edu/ml/machine-learning-databases/covtype/covtype.data.gz\",\n",
        "                              compression='gzip', header=None, names=covtype_colnames)\n",
        "covtype_dataset.head()"
      ]
    },
    {
      "cell_type": "code",
      "execution_count": 39,
      "metadata": {
        "colab": {
          "base_uri": "https://localhost:8080/",
          "height": 238
        },
        "id": "xF0Q-LxO-8Y7",
        "outputId": "6f9bf705-cc42-4a97-de83-29426b72eb7e"
      },
      "outputs": [
        {
          "name": "stdout",
          "output_type": "stream",
          "text": [
            "Dataset 2 - credit screening:\n",
            "\n"
          ]
        },
        {
          "data": {
            "text/html": [
              "<div>\n",
              "<style scoped>\n",
              "    .dataframe tbody tr th:only-of-type {\n",
              "        vertical-align: middle;\n",
              "    }\n",
              "\n",
              "    .dataframe tbody tr th {\n",
              "        vertical-align: top;\n",
              "    }\n",
              "\n",
              "    .dataframe thead th {\n",
              "        text-align: right;\n",
              "    }\n",
              "</style>\n",
              "<table border=\"1\" class=\"dataframe\">\n",
              "  <thead>\n",
              "    <tr style=\"text-align: right;\">\n",
              "      <th></th>\n",
              "      <th>A1</th>\n",
              "      <th>A2</th>\n",
              "      <th>A3</th>\n",
              "      <th>A4</th>\n",
              "      <th>A5</th>\n",
              "      <th>A6</th>\n",
              "      <th>A7</th>\n",
              "      <th>A8</th>\n",
              "      <th>A9</th>\n",
              "      <th>A10</th>\n",
              "      <th>A11</th>\n",
              "      <th>A12</th>\n",
              "      <th>A13</th>\n",
              "      <th>A14</th>\n",
              "      <th>A15</th>\n",
              "      <th>A16</th>\n",
              "    </tr>\n",
              "  </thead>\n",
              "  <tbody>\n",
              "    <tr>\n",
              "      <th>0</th>\n",
              "      <td>b</td>\n",
              "      <td>30.83</td>\n",
              "      <td>0.000</td>\n",
              "      <td>u</td>\n",
              "      <td>g</td>\n",
              "      <td>w</td>\n",
              "      <td>v</td>\n",
              "      <td>1.25</td>\n",
              "      <td>t</td>\n",
              "      <td>t</td>\n",
              "      <td>1</td>\n",
              "      <td>f</td>\n",
              "      <td>g</td>\n",
              "      <td>00202</td>\n",
              "      <td>0</td>\n",
              "      <td>+</td>\n",
              "    </tr>\n",
              "    <tr>\n",
              "      <th>1</th>\n",
              "      <td>a</td>\n",
              "      <td>58.67</td>\n",
              "      <td>4.460</td>\n",
              "      <td>u</td>\n",
              "      <td>g</td>\n",
              "      <td>q</td>\n",
              "      <td>h</td>\n",
              "      <td>3.04</td>\n",
              "      <td>t</td>\n",
              "      <td>t</td>\n",
              "      <td>6</td>\n",
              "      <td>f</td>\n",
              "      <td>g</td>\n",
              "      <td>00043</td>\n",
              "      <td>560</td>\n",
              "      <td>+</td>\n",
              "    </tr>\n",
              "    <tr>\n",
              "      <th>2</th>\n",
              "      <td>a</td>\n",
              "      <td>24.50</td>\n",
              "      <td>0.500</td>\n",
              "      <td>u</td>\n",
              "      <td>g</td>\n",
              "      <td>q</td>\n",
              "      <td>h</td>\n",
              "      <td>1.50</td>\n",
              "      <td>t</td>\n",
              "      <td>f</td>\n",
              "      <td>0</td>\n",
              "      <td>f</td>\n",
              "      <td>g</td>\n",
              "      <td>00280</td>\n",
              "      <td>824</td>\n",
              "      <td>+</td>\n",
              "    </tr>\n",
              "    <tr>\n",
              "      <th>3</th>\n",
              "      <td>b</td>\n",
              "      <td>27.83</td>\n",
              "      <td>1.540</td>\n",
              "      <td>u</td>\n",
              "      <td>g</td>\n",
              "      <td>w</td>\n",
              "      <td>v</td>\n",
              "      <td>3.75</td>\n",
              "      <td>t</td>\n",
              "      <td>t</td>\n",
              "      <td>5</td>\n",
              "      <td>t</td>\n",
              "      <td>g</td>\n",
              "      <td>00100</td>\n",
              "      <td>3</td>\n",
              "      <td>+</td>\n",
              "    </tr>\n",
              "    <tr>\n",
              "      <th>4</th>\n",
              "      <td>b</td>\n",
              "      <td>20.17</td>\n",
              "      <td>5.625</td>\n",
              "      <td>u</td>\n",
              "      <td>g</td>\n",
              "      <td>w</td>\n",
              "      <td>v</td>\n",
              "      <td>1.71</td>\n",
              "      <td>t</td>\n",
              "      <td>f</td>\n",
              "      <td>0</td>\n",
              "      <td>f</td>\n",
              "      <td>s</td>\n",
              "      <td>00120</td>\n",
              "      <td>0</td>\n",
              "      <td>+</td>\n",
              "    </tr>\n",
              "  </tbody>\n",
              "</table>\n",
              "</div>"
            ],
            "text/plain": [
              "  A1     A2     A3 A4 A5 A6 A7    A8 A9 A10  A11 A12 A13    A14  A15 A16\n",
              "0  b  30.83  0.000  u  g  w  v  1.25  t   t    1   f   g  00202    0   +\n",
              "1  a  58.67  4.460  u  g  q  h  3.04  t   t    6   f   g  00043  560   +\n",
              "2  a  24.50  0.500  u  g  q  h  1.50  t   f    0   f   g  00280  824   +\n",
              "3  b  27.83  1.540  u  g  w  v  3.75  t   t    5   t   g  00100    3   +\n",
              "4  b  20.17  5.625  u  g  w  v  1.71  t   f    0   f   s  00120    0   +"
            ]
          },
          "execution_count": 39,
          "metadata": {},
          "output_type": "execute_result"
        }
      ],
      "source": [
        "#  Load dataset 2\n",
        "credit_colnames = [f'A{i}' for i in range(1,17)]\n",
        "credit_dataset = pd.read_csv(\"https://archive.ics.uci.edu/ml/machine-learning-databases/credit-screening/crx.data\",header=None, names=credit_colnames)\n",
        "print(\"Dataset 2 - credit screening:\\n\")\n",
        "credit_dataset.head()"
      ]
    },
    {
      "cell_type": "markdown",
      "metadata": {
        "id": "4aLQhPgt_8jb"
      },
      "source": [
        "# **Wizualizacja danych**"
      ]
    },
    {
      "cell_type": "code",
      "execution_count": 40,
      "metadata": {
        "colab": {
          "base_uri": "https://localhost:8080/",
          "height": 1000
        },
        "id": "6ENgWLv5_kDb",
        "outputId": "0c1ecb4e-fd8a-46ae-f18a-fc79a6a77e8f"
      },
      "outputs": [
        {
          "ename": "TypeError",
          "evalue": "lmplot() got multiple values for argument 'data'",
          "output_type": "error",
          "traceback": [
            "\u001b[1;31m---------------------------------------------------------------------------\u001b[0m",
            "\u001b[1;31mTypeError\u001b[0m                                 Traceback (most recent call last)",
            "Cell \u001b[1;32mIn [40], line 1\u001b[0m\n\u001b[1;32m----> 1\u001b[0m sns\u001b[39m.\u001b[39;49mlmplot(\u001b[39m'\u001b[39;49m\u001b[39mDist_to_water_ver\u001b[39;49m\u001b[39m'\u001b[39;49m, \u001b[39m'\u001b[39;49m\u001b[39mDist_to_water_hor\u001b[39;49m\u001b[39m'\u001b[39;49m,\n\u001b[0;32m      2\u001b[0m            data\u001b[39m=\u001b[39;49mcovtype_dataset,\n\u001b[0;32m      3\u001b[0m            fit_reg\u001b[39m=\u001b[39;49m\u001b[39mFalse\u001b[39;49;00m,\n\u001b[0;32m      4\u001b[0m            hue\u001b[39m=\u001b[39;49m\u001b[39m\"\u001b[39;49m\u001b[39mCover_Type\u001b[39;49m\u001b[39m\"\u001b[39;49m,\n\u001b[0;32m      5\u001b[0m            scatter_kws\u001b[39m=\u001b[39;49m{\u001b[39m\"\u001b[39;49m\u001b[39mmarker\u001b[39;49m\u001b[39m\"\u001b[39;49m: \u001b[39m\"\u001b[39;49m\u001b[39mD\u001b[39;49m\u001b[39m\"\u001b[39;49m,\n\u001b[0;32m      6\u001b[0m                         \u001b[39m\"\u001b[39;49m\u001b[39ms\u001b[39;49m\u001b[39m\"\u001b[39;49m: \u001b[39m15\u001b[39;49m})\n\u001b[0;32m      8\u001b[0m sns\u001b[39m.\u001b[39mlmplot(\u001b[39m'\u001b[39m\u001b[39mElevation\u001b[39m\u001b[39m'\u001b[39m, \u001b[39m'\u001b[39m\u001b[39mDist_to_fire\u001b[39m\u001b[39m'\u001b[39m,\n\u001b[0;32m      9\u001b[0m            data\u001b[39m=\u001b[39mcovtype_dataset,\n\u001b[0;32m     10\u001b[0m            fit_reg\u001b[39m=\u001b[39m\u001b[39mFalse\u001b[39;00m,\n\u001b[0;32m     11\u001b[0m            hue\u001b[39m=\u001b[39m\u001b[39m\"\u001b[39m\u001b[39mCover_Type\u001b[39m\u001b[39m\"\u001b[39m,\n\u001b[0;32m     12\u001b[0m            scatter_kws\u001b[39m=\u001b[39m{\u001b[39m\"\u001b[39m\u001b[39mmarker\u001b[39m\u001b[39m\"\u001b[39m: \u001b[39m\"\u001b[39m\u001b[39mD\u001b[39m\u001b[39m\"\u001b[39m,\n\u001b[0;32m     13\u001b[0m                         \u001b[39m\"\u001b[39m\u001b[39ms\u001b[39m\u001b[39m\"\u001b[39m: \u001b[39m15\u001b[39m})\n\u001b[0;32m     15\u001b[0m sns\u001b[39m.\u001b[39mlmplot(\u001b[39m'\u001b[39m\u001b[39mSlope\u001b[39m\u001b[39m'\u001b[39m, \u001b[39m'\u001b[39m\u001b[39mHillshade_Noon\u001b[39m\u001b[39m'\u001b[39m,\n\u001b[0;32m     16\u001b[0m            data\u001b[39m=\u001b[39mcovtype_dataset,\n\u001b[0;32m     17\u001b[0m            fit_reg\u001b[39m=\u001b[39m\u001b[39mFalse\u001b[39;00m,\n\u001b[0;32m     18\u001b[0m            hue\u001b[39m=\u001b[39m\u001b[39m\"\u001b[39m\u001b[39mCover_Type\u001b[39m\u001b[39m\"\u001b[39m,\n\u001b[0;32m     19\u001b[0m            scatter_kws\u001b[39m=\u001b[39m{\u001b[39m\"\u001b[39m\u001b[39mmarker\u001b[39m\u001b[39m\"\u001b[39m: \u001b[39m\"\u001b[39m\u001b[39mD\u001b[39m\u001b[39m\"\u001b[39m,\n\u001b[0;32m     20\u001b[0m                         \u001b[39m\"\u001b[39m\u001b[39ms\u001b[39m\u001b[39m\"\u001b[39m: \u001b[39m15\u001b[39m})\n",
            "\u001b[1;31mTypeError\u001b[0m: lmplot() got multiple values for argument 'data'"
          ]
        }
      ],
      "source": [
        "sns.lmplot('Dist_to_water_ver', 'Dist_to_water_hor',\n",
        "           data=covtype_dataset,\n",
        "           fit_reg=False,\n",
        "           hue=\"Cover_Type\",\n",
        "           scatter_kws={\"marker\": \"D\",\n",
        "                        \"s\": 15})\n",
        "\n",
        "sns.lmplot('Elevation', 'Dist_to_fire',\n",
        "           data=covtype_dataset,\n",
        "           fit_reg=False,\n",
        "           hue=\"Cover_Type\",\n",
        "           scatter_kws={\"marker\": \"D\",\n",
        "                        \"s\": 15})\n",
        "\n",
        "sns.lmplot('Slope', 'Hillshade_Noon',\n",
        "           data=covtype_dataset,\n",
        "           fit_reg=False,\n",
        "           hue=\"Cover_Type\",\n",
        "           scatter_kws={\"marker\": \"D\",\n",
        "                        \"s\": 15})"
      ]
    },
    {
      "cell_type": "code",
      "execution_count": null,
      "metadata": {
        "colab": {
          "base_uri": "https://localhost:8080/",
          "height": 1000
        },
        "id": "6Kd7CulCIyNg",
        "outputId": "c1a09ae5-79dc-4784-d0e7-2ea218efa877"
      },
      "outputs": [
        {
          "name": "stderr",
          "output_type": "stream",
          "text": [
            "/usr/local/lib/python3.7/dist-packages/seaborn/_decorators.py:43: FutureWarning: Pass the following variables as keyword args: x, y. From version 0.12, the only valid positional argument will be `data`, and passing other arguments without an explicit keyword will result in an error or misinterpretation.\n",
            "  FutureWarning\n",
            "/usr/local/lib/python3.7/dist-packages/seaborn/_decorators.py:43: FutureWarning: Pass the following variables as keyword args: x, y. From version 0.12, the only valid positional argument will be `data`, and passing other arguments without an explicit keyword will result in an error or misinterpretation.\n",
            "  FutureWarning\n",
            "/usr/local/lib/python3.7/dist-packages/seaborn/_decorators.py:43: FutureWarning: Pass the following variables as keyword args: x, y. From version 0.12, the only valid positional argument will be `data`, and passing other arguments without an explicit keyword will result in an error or misinterpretation.\n",
            "  FutureWarning\n",
            "/usr/local/lib/python3.7/dist-packages/seaborn/_decorators.py:43: FutureWarning: Pass the following variables as keyword args: x, y. From version 0.12, the only valid positional argument will be `data`, and passing other arguments without an explicit keyword will result in an error or misinterpretation.\n",
            "  FutureWarning\n",
            "/usr/local/lib/python3.7/dist-packages/seaborn/_decorators.py:43: FutureWarning: Pass the following variables as keyword args: x, y. From version 0.12, the only valid positional argument will be `data`, and passing other arguments without an explicit keyword will result in an error or misinterpretation.\n",
            "  FutureWarning\n",
            "/usr/local/lib/python3.7/dist-packages/seaborn/_decorators.py:43: FutureWarning: Pass the following variables as keyword args: x, y. From version 0.12, the only valid positional argument will be `data`, and passing other arguments without an explicit keyword will result in an error or misinterpretation.\n",
            "  FutureWarning\n"
          ]
        },
        {
          "data": {
            "image/png": "[encoded data removed]",
            "text/plain": [
              "<Figure size 402.375x360 with 1 Axes>"
            ]
          },
          "metadata": {
            "needs_background": "light"
          },
          "output_type": "display_data"
        },
        {
          "data": {
            "image/png": "[encoded data removed]",
            "text/plain": [
              "<Figure size 402.375x360 with 1 Axes>"
            ]
          },
          "metadata": {
            "needs_background": "light"
          },
          "output_type": "display_data"
        },
        {
          "data": {
            "image/png": "[encoded data removed]",
            "text/plain": [
              "<Figure size 402.375x360 with 1 Axes>"
            ]
          },
          "metadata": {
            "needs_background": "light"
          },
          "output_type": "display_data"
        },
        {
          "data": {
            "image/png": "[encoded data removed]",
            "text/plain": [
              "<Figure size 402.375x360 with 1 Axes>"
            ]
          },
          "metadata": {
            "needs_background": "light"
          },
          "output_type": "display_data"
        },
        {
          "data": {
            "image/png": "[encoded data removed]",
            "text/plain": [
              "<Figure size 402.375x360 with 1 Axes>"
            ]
          },
          "metadata": {
            "needs_background": "light"
          },
          "output_type": "display_data"
        },
        {
          "data": {
            "image/png": "[encoded data removed]",
            "text/plain": [
              "<Figure size 402.375x360 with 1 Axes>"
            ]
          },
          "metadata": {
            "needs_background": "light"
          },
          "output_type": "display_data"
        }
      ],
      "source": [
        "A = ['A3', 'A8', 'A11', 'A15']\n",
        "for i in range(len(A)):\n",
        "    for j in range(len(A)):\n",
        "        if i >= j:\n",
        "            pass\n",
        "        else:\n",
        "            sns.lmplot(A[i], A[j],\n",
        "                    data=credit_dataset,\n",
        "                    fit_reg=False,\n",
        "                    hue=\"A16\",\n",
        "                    scatter_kws={\"marker\": \"D\",\n",
        "                                    \"s\": 50})"
      ]
    },
    {
      "cell_type": "markdown",
      "metadata": {
        "id": "QezptdzMiu1E"
      },
      "source": [
        "# **B. Przygotowanie danych.**"
      ]
    },
    {
      "cell_type": "markdown",
      "metadata": {
        "id": "xW-vWEumltGM"
      },
      "source": [
        "Przygotowanie danych dotyczące zbioru danych covtype. Podział na zbiór treningowy i zbiór testowy."
      ]
    },
    {
      "cell_type": "code",
      "execution_count": 42,
      "metadata": {
        "id": "L9rtnRYPlOwC"
      },
      "outputs": [],
      "source": [
        "# replace 7 with 0 to transform covtypes from 1-7 to 0-6\n",
        "covtype_dataset.loc[covtype_dataset[\"Cover_Type\"] == 7, \"Cover_Type\"] = 0\n",
        "\n",
        "# split into data and labels\n",
        "covtype_X = covtype_dataset.iloc[:, 0:-1].values\n",
        "covtype_y = covtype_dataset.iloc[:, -1].values\n",
        "covtype_X = normalize(covtype_X, axis=0)\n",
        "\n",
        "# split into test set and training set\n",
        "covtype_X_train, covtype_X_test, covtype_y_train, covtype_y_test = train_test_split(covtype_X, covtype_y, test_size=0.20, random_state=31)\n",
        "\n",
        "# transform labels to OHE\n",
        "covtype_y_train = np_utils.to_categorical(covtype_y_train, num_classes=7)\n",
        "covtype_y_test = np_utils.to_categorical(covtype_y_test, num_classes=7)"
      ]
    },
    {
      "cell_type": "markdown",
      "metadata": {
        "id": "dH3TId2vmaH6"
      },
      "source": [
        "Przygotowanie danych dotyczące zbioru danych credit approval. ??????Podział na zbiór treningowy i zbiór testowy?????????."
      ]
    },
    {
      "cell_type": "code",
      "execution_count": null,
      "metadata": {
        "colab": {
          "base_uri": "https://localhost:8080/",
          "height": 361
        },
        "id": "JXBlT5NtmiMH",
        "outputId": "b282d8d9-de81-418c-93ae-61e5bcc13d9f"
      },
      "outputs": [
        {
          "name": "stdout",
          "output_type": "stream",
          "text": [
            "[[ 0.    30.83   0.    ...  1.     0.     0.   ]\n",
            " [ 1.    58.67   4.46  ...  1.     0.     0.   ]\n",
            " [ 1.    24.5    0.5   ...  1.     0.     0.   ]\n",
            " ...\n",
            " [ 1.    25.25  13.5   ...  1.     0.     0.   ]\n",
            " [ 0.    17.92   0.205 ...  1.     0.     0.   ]\n",
            " [ 0.    35.     3.375 ...  1.     0.     0.   ]]\n",
            "[1 1 1 1 1 1 1 1 1 1 1 1 1 1 1 1 1 1 1 1 1 1 1 1 1 1 1 1 1 1 1 1 1 1 1 1 1\n",
            " 1 1 1 1 1 1 1 1 1 1 1 1 1 1 1 1 1 1 1 1 1 1 1 1 1 1 1 1 1 1 1 1 1 0 0 0 0\n",
            " 0 0 0 0 0 0 0 0 0 0 0 0 0 0 0 0 0 0 0 0 0 0 0 0 0 0 0 0 0 0 0 0 0 0 0 0 0\n",
            " 0 1 1 1 1 1 1 1 1 1 1 1 1 1 1 1 1 1 1 1 1 1 1 1 1 1 1 1 1 1 1 1 1 1 1 1 1\n",
            " 1 1 1 1 1 1 1 1 1 1 1 1 1 1 1 1 1 1 1 1 1 1 1 1 1 1 1 1 1 1 1 1 1 1 1 1 1\n",
            " 1 1 1 1 1 1 1 1 1 1 1 1 1 1 1 1 1 1 1 1 1 1 1 1 1 1 1 1 1 1 1 1 1 1 1 1 1\n",
            " 1 1 1 1 1 1 1 1 1 1 1 1 1 1 1 1 1 1 1 1 1 1 1 0 0 0 0 0 0 0 0 0 0 0 0 0 1\n",
            " 1 0 0 0 0 0 0 0 0 0 0 0 0 0 0 0 0 0 0 0 0 0 0 0 0 0 0 0 0 0 0 0 0 0 0 0 0\n",
            " 0 0 0 0 0 0 0 0 1 1 1 1 1 1 1 0 0 0 0 0 0 0 0 0 0 0 0 0 0 0 0 0 0 0 0 0 0\n",
            " 0 0 0 0 0 0 0 0 0 0 0 0 0 0 0 0 0 0 0 0 0 0 0 0 0 0 0 0 0 0 0 0 0 0 0 0 0\n",
            " 0 0 0 0 0 0 0 0 0 0 0 0 0 0 0 0 0 0 0 0 0 0 0 0 0 0 0 0 0 0 0 0 0 0 0 0 0\n",
            " 0 0 0 0 0 0 0 0 0 0 0 0 0 0 0 0 0 0 0 0 0 0 0 0 0 0 0 0 0 0 0 0 0 0 0 0 0\n",
            " 0 0 0 0 0 0 0 0 0 0 0 0 0 0 0 0 0 0 0 0 0 1 1 1 1 1 1 1 1 1 1 1 1 1 1 1 1\n",
            " 1 1 1 1 1 1 1 1 1 1 1 1 1 1 0 0 0 0 0 0 0 0 0 0 0 0 0 0 0 0 0 0 0 0 0 0 0\n",
            " 1 1 1 1 1 1 1 1 1 1 1 1 1 1 1 1 1 1 1 1 1 1 1 1 1 1 1 1 1 1 1 1 1 1 1 1 1\n",
            " 1 1 1 1 1 1 1 1 1 1 1 1 1 1 1 0 0 0 0 1 0 0 0 0 0 0 0 0 0 0 0 0 0 1 0 0 0\n",
            " 0 0 0 0 0 0 0 0 0 0 0 0 0 0 0 0 0 0 0 0 0 0 0 0 0 0 0 0 0 0 0 0 0 0 0 0 0\n",
            " 0 0 0 0 0 0 0 0 0 0 0 0 0 0 0 0 0 0 0 0 0 0 0 0]\n",
            "43\n"
          ]
        }
      ],
      "source": [
        "# remove missing values\n",
        "credit_prepared_dataset = credit_dataset.replace('?', np.NaN)\n",
        "credit_prepared_dataset = credit_prepared_dataset.dropna()\n",
        "\n",
        "# divide attributes to numerical and categorical\n",
        "credit_dataset_num = ['A2', 'A3', 'A8', 'A11', 'A14', 'A15']\n",
        "credit_dataset_cat = ['A1', 'A4', 'A5', 'A6', 'A7', 'A9', 'A10', 'A12', 'A13', 'A16']\n",
        "\n",
        "# replace two-value categorical attributes to 0 and 1, adding them to numerical attributes\n",
        "for i in credit_dataset_cat:\n",
        "    if len(credit_prepared_dataset[i].unique()) == 2:\n",
        "        credit_prepared_dataset[i] = credit_prepared_dataset[i].replace(['a', 't', '+'], 1)\n",
        "        credit_prepared_dataset[i] = credit_prepared_dataset[i].replace(['b', 'f', '-'], 0)\n",
        "        credit_prepared_dataset[i] = credit_prepared_dataset[i].astype('int')\n",
        "        credit_dataset_num.append(i)\n",
        "\n",
        "# remove duplicated attributes\n",
        "for i in credit_dataset_num:\n",
        "    if i in credit_dataset_cat:\n",
        "        credit_dataset_cat.remove(i)\n",
        "\n",
        "# changing type of numerical attributes to float\n",
        "for i in credit_dataset_num:\n",
        "    if credit_prepared_dataset[i].dtypes == object:\n",
        "        credit_prepared_dataset[i] = credit_prepared_dataset[i].astype('float')\n",
        "\n",
        "# transform labels to OHE\n",
        "for i in credit_prepared_dataset.columns:\n",
        "    if credit_prepared_dataset[i].dtypes == object:\n",
        "        y = pd.get_dummies(credit_prepared_dataset[i], prefix=i)\n",
        "        credit_prepared_dataset = credit_prepared_dataset.drop(columns=i)\n",
        "        credit_prepared_dataset = pd.concat([credit_prepared_dataset, y], axis=1)\n",
        "\n",
        "# putting attribute that we want to predict to last column\n",
        "cols = credit_prepared_dataset.columns.to_list()\n",
        "cols.remove('A16')\n",
        "cols.append('A16')\n",
        "\n",
        "credit_prepared_dataset = credit_prepared_dataset[cols]\n",
        "\n",
        "\n",
        "# split into data and labels\n",
        "credit_X = credit_prepared_dataset.iloc[:, 0:-1].values\n",
        "credit_y = credit_prepared_dataset.iloc[:, -1].values\n",
        "credit_X = normalize(credit_X, axis=0)\n",
        "\n",
        "# split into test set and training set\n",
        "credit_X_train, credit_X_test, credit_y_train, credit_y_test = train_test_split(credit_X, credit_y, test_size=0.20, random_state=31)\n",
        "\n",
        "# transform boolean to 2-column to OHE\n",
        "credit_y_train = np_utils.to_categorical(credit_y_train, num_classes=2)\n",
        "credit_y_test = np_utils.to_categorical(credit_y_test, num_classes=2)"
      ]
    },
    {
      "cell_type": "markdown",
      "metadata": {
        "id": "bVG-bFoUmn1A"
      },
      "source": [
        "# **C. Struktura sieci**"
      ]
    },
    {
      "cell_type": "code",
      "execution_count": 44,
      "metadata": {
        "colab": {
          "base_uri": "https://localhost:8080/"
        },
        "id": "7wptHsqhKnxt",
        "outputId": "f0bb5bd6-8cfb-42fd-aa29-f997dc181f96"
      },
      "outputs": [
        {
          "name": "stdout",
          "output_type": "stream",
          "text": [
            "Epoch 1/10\n",
            "23241/23241 [==============================] - 54s 2ms/step - loss: 0.8137 - accuracy: 0.6271 - val_loss: 0.7597 - val_accuracy: 0.6497\n",
            "Epoch 2/10\n",
            "23241/23241 [==============================] - 54s 2ms/step - loss: 0.7621 - accuracy: 0.6495 - val_loss: 0.7419 - val_accuracy: 0.6573\n",
            "Epoch 3/10\n",
            "23241/23241 [==============================] - 54s 2ms/step - loss: 0.7475 - accuracy: 0.6559 - val_loss: 0.7379 - val_accuracy: 0.6603\n",
            "Epoch 4/10\n",
            "23241/23241 [==============================] - 54s 2ms/step - loss: 0.7363 - accuracy: 0.6602 - val_loss: 0.7244 - val_accuracy: 0.6666\n",
            "Epoch 5/10\n",
            "23241/23241 [==============================] - 51s 2ms/step - loss: 0.7260 - accuracy: 0.6648 - val_loss: 0.7260 - val_accuracy: 0.6667\n",
            "Epoch 6/10\n",
            "23241/23241 [==============================] - 56s 2ms/step - loss: 0.7142 - accuracy: 0.6703 - val_loss: 0.7026 - val_accuracy: 0.6780\n",
            "Epoch 7/10\n",
            "23241/23241 [==============================] - 51s 2ms/step - loss: 0.7036 - accuracy: 0.6747 - val_loss: 0.6955 - val_accuracy: 0.6784\n",
            "Epoch 8/10\n",
            "23241/23241 [==============================] - 56s 2ms/step - loss: 0.6948 - accuracy: 0.6800 - val_loss: 0.6880 - val_accuracy: 0.6835\n",
            "Epoch 9/10\n",
            "23241/23241 [==============================] - 52s 2ms/step - loss: 0.6866 - accuracy: 0.6828 - val_loss: 0.6758 - val_accuracy: 0.6871\n",
            "Epoch 10/10\n",
            "23241/23241 [==============================] - 52s 2ms/step - loss: 0.6796 - accuracy: 0.6865 - val_loss: 0.6715 - val_accuracy: 0.6906\n",
            "3632/3632 [==============================] - 5s 1ms/step\n",
            "Accuracy of the neural network: 69.0575974802716\n"
          ]
        }
      ],
      "source": [
        "# sieć dla covtype\n",
        "\n",
        "# create NN\n",
        "covtype_NN_model = Sequential()\n",
        "covtype_NN_model.add(Dense(1000, input_dim=53, activation='relu'))  # the input layer\n",
        "covtype_NN_model.add(Dense(100, activation='relu'))  # the first hidden layer\n",
        "covtype_NN_model.add(Dense(500, activation='relu'))  # the second hidden layer\n",
        "covtype_NN_model.add(Dropout(0.2))  # Protects against overfitting\n",
        "covtype_NN_model.add(Dense(7, activation='softmax'))  # the output layer\n",
        "covtype_NN_model.compile(loss='categorical_crossentropy', optimizer='adam', metrics=['accuracy'])  # compile model\n",
        "\n",
        "# train NN\n",
        "covtype_NN_model.fit(covtype_X_train, covtype_y_train, validation_data=(covtype_X_test, covtype_y_test), batch_size=20, epochs=10, verbose=1)\n",
        "\n",
        "# predict values from test set, measure accuracity\n",
        "prediction = covtype_NN_model.predict(covtype_X_test)\n",
        "length = len(prediction)\n",
        "y_label = np.argmax(covtype_y_test, axis=1)\n",
        "predict_label = np.argmax(prediction, axis=1)\n",
        "# how times it matched/ how many test cases\n",
        "accuracy = np.sum(y_label == predict_label)/length * 100\n",
        "print(\"Accuracy of the neural network:\", accuracy)\n"
      ]
    },
    {
      "cell_type": "code",
      "execution_count": 49,
      "metadata": {
        "colab": {
          "base_uri": "https://localhost:8080/"
        },
        "id": "7wptHsqhKnxt",
        "outputId": "f0bb5bd6-8cfb-42fd-aa29-f997dc181f96"
      },
      "outputs": [
        {
          "name": "stdout",
          "output_type": "stream",
          "text": [
            "Epoch 1/10\n",
            "27/27 [==============================] - 1s 8ms/step - loss: 0.6537 - accuracy: 0.6782 - val_loss: 0.5918 - val_accuracy: 0.7710\n",
            "Epoch 2/10\n",
            "27/27 [==============================] - 0s 3ms/step - loss: 0.4824 - accuracy: 0.8218 - val_loss: 0.4806 - val_accuracy: 0.7405\n",
            "Epoch 3/10\n",
            "27/27 [==============================] - 0s 3ms/step - loss: 0.3696 - accuracy: 0.8352 - val_loss: 0.4753 - val_accuracy: 0.7939\n",
            "Epoch 4/10\n",
            "27/27 [==============================] - 0s 3ms/step - loss: 0.3520 - accuracy: 0.8563 - val_loss: 0.4122 - val_accuracy: 0.8473\n",
            "Epoch 5/10\n",
            "27/27 [==============================] - 0s 3ms/step - loss: 0.3407 - accuracy: 0.8448 - val_loss: 0.3951 - val_accuracy: 0.8321\n",
            "Epoch 6/10\n",
            "27/27 [==============================] - 0s 3ms/step - loss: 0.2983 - accuracy: 0.8774 - val_loss: 0.4173 - val_accuracy: 0.8321\n",
            "Epoch 7/10\n",
            "27/27 [==============================] - 0s 3ms/step - loss: 0.2997 - accuracy: 0.8697 - val_loss: 0.3697 - val_accuracy: 0.8550\n",
            "Epoch 8/10\n",
            "27/27 [==============================] - 0s 3ms/step - loss: 0.2931 - accuracy: 0.8774 - val_loss: 0.3743 - val_accuracy: 0.8473\n",
            "Epoch 9/10\n",
            "27/27 [==============================] - 0s 3ms/step - loss: 0.2836 - accuracy: 0.8831 - val_loss: 0.3859 - val_accuracy: 0.8626\n",
            "Epoch 10/10\n",
            "27/27 [==============================] - 0s 3ms/step - loss: 0.2849 - accuracy: 0.8736 - val_loss: 0.3733 - val_accuracy: 0.8779\n",
            "5/5 [==============================] - 0s 1ms/step\n",
            "Accuracy of the neural network: 87.78625954198473\n"
          ]
        }
      ],
      "source": [
        "# sieć dla credit\n",
        "\n",
        "# create NN\n",
        "credit_NN_model = Sequential()\n",
        "credit_NN_model.add(Dense(1000, input_dim=42, activation='relu'))  # the input layer\n",
        "credit_NN_model.add(Dense(100, activation='relu'))  # the first hidden layer\n",
        "credit_NN_model.add(Dropout(0.2))  # Protects against overfitting\n",
        "credit_NN_model.add(Dense(2, activation='softmax'))  # the output layer\n",
        "credit_NN_model.compile(loss='categorical_crossentropy', optimizer='adam', metrics=['accuracy'])  # compile model\n",
        "\n",
        "# train NN\n",
        "credit_NN_model.fit(credit_X_train, credit_y_train, validation_data=(credit_X_test, credit_y_test), batch_size=20, epochs=10, verbose=1)\n",
        "\n",
        "# predict values from test set, measure accuracity\n",
        "prediction = credit_NN_model.predict(credit_X_test)\n",
        "length = len(prediction)\n",
        "y_label = np.argmax(credit_y_test, axis=1)\n",
        "predict_label = np.argmax(prediction, axis=1)\n",
        "# how times it matched/ how many test cases\n",
        "accuracy = np.sum(y_label == predict_label)/length * 100\n",
        "print(\"Accuracy of the neural network:\", accuracy)\n"
      ]
    }
  ],
  "metadata": {
    "colab": {
      "provenance": []
    },
    "kernelspec": {
      "display_name": "Python 3.10.7 64-bit",
      "language": "python",
      "name": "python3"
    },
    "language_info": {
      "codemirror_mode": {
        "name": "ipython",
        "version": 3
      },
      "file_extension": ".py",
      "mimetype": "text/x-python",
      "name": "python",
      "nbconvert_exporter": "python",
      "pygments_lexer": "ipython3",
      "version": "3.10.7"
    },
    "vscode": {
      "interpreter": {
        "hash": "369f2c481f4da34e4445cda3fffd2e751bd1c4d706f27375911949ba6bb62e1c"
      }
    }
  },
  "nbformat": 4,
  "nbformat_minor": 0
}
